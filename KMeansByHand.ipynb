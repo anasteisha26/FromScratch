{
 "cells": [
  {
   "cell_type": "markdown",
   "id": "7a66d685-f678-48d1-b6a9-1656591f7b21",
   "metadata": {},
   "source": [
    "# The task: to write the K-Means algorithm from scratch\n",
    "\n",
    "### Additionally:\n",
    "- Train OOP concepts\n",
    "- Train classical algorithms - sorting in this case\n",
    "\n",
    "### Advanced:\n",
    "- Try to optimize it as much as possible in terms of both time and memory"
   ]
  },
  {
   "cell_type": "code",
   "execution_count": 11,
   "id": "d2b7aa71-2ce4-4221-8c87-c3175901086b",
   "metadata": {},
   "outputs": [],
   "source": [
    "class KMeans:\n",
    "    def __init__(self, k):\n",
    "        self.k = k\n",
    "\n",
    "    def train(data):\n",
    "        pass"
   ]
  },
  {
   "cell_type": "code",
   "execution_count": 12,
   "id": "c5556dc6-c8bc-4258-a523-9e56b07a5740",
   "metadata": {},
   "outputs": [],
   "source": [
    "model = KMeans(3)"
   ]
  },
  {
   "cell_type": "code",
   "execution_count": 13,
   "id": "b940ce53-7110-4773-92f9-b4b2401115bd",
   "metadata": {},
   "outputs": [
    {
     "data": {
      "text/plain": [
       "<__main__.KMeans at 0x7cbc74728f50>"
      ]
     },
     "execution_count": 13,
     "metadata": {},
     "output_type": "execute_result"
    }
   ],
   "source": [
    "model"
   ]
  },
  {
   "cell_type": "code",
   "execution_count": 15,
   "id": "917663b6-83a4-4bf9-aa5a-d04a5829e852",
   "metadata": {},
   "outputs": [
    {
     "ename": "TypeError",
     "evalue": "KMeans.train() takes 1 positional argument but 2 were given",
     "output_type": "error",
     "traceback": [
      "\u001b[0;31m---------------------------------------------------------------------------\u001b[0m",
      "\u001b[0;31mTypeError\u001b[0m                                 Traceback (most recent call last)",
      "Cell \u001b[0;32mIn[15], line 1\u001b[0m\n\u001b[0;32m----> 1\u001b[0m model\u001b[38;5;241m.\u001b[39mtrain(model)\n",
      "\u001b[0;31mTypeError\u001b[0m: KMeans.train() takes 1 positional argument but 2 were given"
     ]
    }
   ],
   "source": [
    "model.train(model)"
   ]
  },
  {
   "cell_type": "markdown",
   "id": "56a065f4-0703-485d-80f1-bbabe5517070",
   "metadata": {},
   "source": [
    "## Description of the K-Means in a pseudo code:"
   ]
  },
  {
   "cell_type": "code",
   "execution_count": null,
   "id": "9ad7a428-f7cb-4a13-94fd-64f15e56ca08",
   "metadata": {},
   "outputs": [],
   "source": [
    "1. Define the K.\n",
    "2. "
   ]
  }
 ],
 "metadata": {
  "kernelspec": {
   "display_name": "Python 3 (ipykernel)",
   "language": "python",
   "name": "python3"
  },
  "language_info": {
   "codemirror_mode": {
    "name": "ipython",
    "version": 3
   },
   "file_extension": ".py",
   "mimetype": "text/x-python",
   "name": "python",
   "nbconvert_exporter": "python",
   "pygments_lexer": "ipython3",
   "version": "3.11.7"
  }
 },
 "nbformat": 4,
 "nbformat_minor": 5
}
