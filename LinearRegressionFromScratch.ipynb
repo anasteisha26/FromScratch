{
 "cells": [
  {
   "cell_type": "code",
   "execution_count": 1,
   "id": "97880c88-7813-437c-bfab-829b138d6c9f",
   "metadata": {},
   "outputs": [],
   "source": [
    "import math"
   ]
  },
  {
   "cell_type": "code",
   "execution_count": 7,
   "id": "cf4bf5d6-d6f9-4dc3-ba30-f62d8e73c205",
   "metadata": {},
   "outputs": [],
   "source": [
    "def MSE(y_act, y_hat):\n",
    "    \n",
    "    sum = 0\n",
    "    \n",
    "    for i in range(len(y_hat)):\n",
    "        sum += (y_act[i] - y_hat[i]) ** 2\n",
    "        print(i, sum)\n",
    "\n",
    "    return sum"
   ]
  },
  {
   "cell_type": "code",
   "execution_count": 6,
   "id": "da261946-194e-48dd-97f6-f86d7a0e3bcb",
   "metadata": {},
   "outputs": [
    {
     "name": "stdout",
     "output_type": "stream",
     "text": [
      "0 0\n",
      "1 64\n",
      "2 65\n",
      "3 66\n",
      "4 67\n",
      "5 71\n",
      "6 72\n",
      "7 72\n"
     ]
    },
    {
     "data": {
      "text/plain": [
       "72"
      ]
     },
     "execution_count": 6,
     "metadata": {},
     "output_type": "execute_result"
    }
   ],
   "source": [
    "y_act = [1, 2, 2, 3, 1, 1, 4, 2]\n",
    "y_hat = [1, 10, 1, 2, 2, 3, 5, 2]\n",
    "\n",
    "MSE(y_act, y_hat)"
   ]
  },
  {
   "cell_type": "code",
   "execution_count": 8,
   "id": "86799628-590d-4d9a-a624-ee099a8ab0d8",
   "metadata": {},
   "outputs": [],
   "source": [
    "def MAE(y_act, y_hat):\n",
    "    \n",
    "    sum = 0\n",
    "\n",
    "    for i in range(len(y_hat)):\n",
    "        sum += abs((y_act[i] - y_hat[i]))\n",
    "        print(i, sum)\n",
    "\n",
    "    return sum    "
   ]
  },
  {
   "cell_type": "code",
   "execution_count": 9,
   "id": "87d972ea-2786-400f-b68a-d977c4c8de9c",
   "metadata": {},
   "outputs": [
    {
     "name": "stdout",
     "output_type": "stream",
     "text": [
      "0 0\n",
      "1 8\n",
      "2 9\n",
      "3 10\n",
      "4 11\n",
      "5 13\n",
      "6 14\n",
      "7 14\n"
     ]
    },
    {
     "data": {
      "text/plain": [
       "14"
      ]
     },
     "execution_count": 9,
     "metadata": {},
     "output_type": "execute_result"
    }
   ],
   "source": [
    "MAE(y_act, y_hat)"
   ]
  },
  {
   "cell_type": "code",
   "execution_count": null,
   "id": "2d753662-f329-4682-8535-a13b9f440a6c",
   "metadata": {},
   "outputs": [],
   "source": []
  }
 ],
 "metadata": {
  "kernelspec": {
   "display_name": "Python 3 (ipykernel)",
   "language": "python",
   "name": "python3"
  },
  "language_info": {
   "codemirror_mode": {
    "name": "ipython",
    "version": 3
   },
   "file_extension": ".py",
   "mimetype": "text/x-python",
   "name": "python",
   "nbconvert_exporter": "python",
   "pygments_lexer": "ipython3",
   "version": "3.11.7"
  }
 },
 "nbformat": 4,
 "nbformat_minor": 5
}
