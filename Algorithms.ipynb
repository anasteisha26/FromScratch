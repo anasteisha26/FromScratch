{
 "cells": [
  {
   "cell_type": "code",
   "execution_count": 1,
   "id": "f62942d6-9b4c-4d42-821a-8afa8f67f022",
   "metadata": {},
   "outputs": [],
   "source": [
    "def find_min(arr):\n",
    "    f = 0\n",
    "    s = 1\n",
    "    print(arr[f], arr[s], f, s)\n",
    "    \n",
    "    while s < len(arr):\n",
    "        if arr[f] > arr[s]:\n",
    "            print(arr[f], arr[s], f, s)\n",
    "            f = s\n",
    "            s += 1            \n",
    "        else:\n",
    "            print(arr[f], arr[s], f, s)\n",
    "            s += 1            \n",
    "    return arr[f]"
   ]
  },
  {
   "cell_type": "code",
   "execution_count": 2,
   "id": "98f38925-b6f3-4493-a485-864423592aee",
   "metadata": {},
   "outputs": [],
   "source": [
    "def find_max(arr):\n",
    "    f = 0\n",
    "    s = 1\n",
    "    print(arr[f], arr[s], f, s)\n",
    "    \n",
    "    while s < len(arr):\n",
    "        if arr[f] < arr[s]:\n",
    "            print(arr[f], arr[s], f, s)\n",
    "            f = s\n",
    "            s += 1            \n",
    "        else:\n",
    "            print(arr[f], arr[s], f, s)\n",
    "            s += 1            \n",
    "    return arr[f]"
   ]
  },
  {
   "cell_type": "code",
   "execution_count": 3,
   "id": "d4d87298-5827-4778-963c-fe23a377e30f",
   "metadata": {},
   "outputs": [],
   "source": [
    "# algorithm for calculating length of an array/list\n",
    "def length(array):\n",
    "    sum = 0\n",
    "    for element in array:\n",
    "        sum += 1\n",
    "\n",
    "    return sum"
   ]
  },
  {
   "cell_type": "code",
   "execution_count": 4,
   "id": "5921e575-c099-4288-8a37-cf37b0bae447",
   "metadata": {},
   "outputs": [],
   "source": [
    "def calculate_mean(array):\n",
    "    sum = 0\n",
    "    count = 0\n",
    "    for element in array:\n",
    "        sum += element\n",
    "        count += 1\n",
    "    return sum/count"
   ]
  },
  {
   "cell_type": "code",
   "execution_count": 7,
   "id": "18d76c14-cf84-453c-821b-f51ec57e17d7",
   "metadata": {},
   "outputs": [],
   "source": [
    "def mode(array):\n",
    "    dict = {}\n",
    "    for el in array:\n",
    "        if bool(dict.get(f'{el}')) == False:\n",
    "            dict[f'{el}'] = 1\n",
    "        else:\n",
    "            dict[f'{el}'] = 1 + dict[f'{el}']\n",
    "\n",
    "    vals = list(dict.values())\n",
    "    keys = list(dict.keys())\n",
    "    \n",
    "    f = 0\n",
    "    s = 1\n",
    "    \n",
    "    while s < len(vals):\n",
    "        if vals[f] < vals[s]:\n",
    "            f = s\n",
    "            s += 1            \n",
    "        else:\n",
    "            s += 1  \n",
    "            \n",
    "    mode = float(keys[f])\n",
    "    \n",
    "    return mode"
   ]
  }
 ],
 "metadata": {
  "kernelspec": {
   "display_name": "Python 3 (ipykernel)",
   "language": "python",
   "name": "python3"
  },
  "language_info": {
   "codemirror_mode": {
    "name": "ipython",
    "version": 3
   },
   "file_extension": ".py",
   "mimetype": "text/x-python",
   "name": "python",
   "nbconvert_exporter": "python",
   "pygments_lexer": "ipython3",
   "version": "3.11.7"
  }
 },
 "nbformat": 4,
 "nbformat_minor": 5
}
