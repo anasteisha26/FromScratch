{
 "cells": [
  {
   "cell_type": "code",
   "execution_count": 3,
   "id": "70657c4e-d950-463c-9054-6d9ab6f856dd",
   "metadata": {},
   "outputs": [
    {
     "ename": "NameError",
     "evalue": "name 'k_1' is not defined",
     "output_type": "error",
     "traceback": [
      "\u001b[0;31m---------------------------------------------------------------------------\u001b[0m",
      "\u001b[0;31mNameError\u001b[0m                                 Traceback (most recent call last)",
      "Cell \u001b[0;32mIn[3], line 1\u001b[0m\n\u001b[0;32m----> 1\u001b[0m y \u001b[38;5;241m=\u001b[39m k_1\u001b[38;5;241m*\u001b[39mx_1 \u001b[38;5;241m+\u001b[39m k_2\u001b[38;5;241m*\u001b[39mx_2 \u001b[38;5;241m+\u001b[39m b\n\u001b[1;32m      2\u001b[0m y_hat \u001b[38;5;241m=\u001b[39m k_1\u001b[38;5;241m*\u001b[39mx_1 \u001b[38;5;241m+\u001b[39m k_2\u001b[38;5;241m*\u001b[39mx_2 \u001b[38;5;241m+\u001b[39m b\n",
      "\u001b[0;31mNameError\u001b[0m: name 'k_1' is not defined"
     ]
    }
   ],
   "source": [
    "y = k_1*x_1 + k_2*x_2 + b\n",
    "y_hat = k_1*x_1 + k_2*x_2 + b"
   ]
  },
  {
   "cell_type": "code",
   "execution_count": 2,
   "id": "07333a59-77ea-49f0-b92d-b90e2bc67aeb",
   "metadata": {},
   "outputs": [
    {
     "ename": "NameError",
     "evalue": "name 'y_hat_1' is not defined",
     "output_type": "error",
     "traceback": [
      "\u001b[0;31m---------------------------------------------------------------------------\u001b[0m",
      "\u001b[0;31mNameError\u001b[0m                                 Traceback (most recent call last)",
      "Cell \u001b[0;32mIn[2], line 1\u001b[0m\n\u001b[0;32m----> 1\u001b[0m L \u001b[38;5;241m=\u001b[39m (y_hat_1 \u001b[38;5;241m-\u001b[39m y_act_1)\u001b[38;5;241m*\u001b[39m\u001b[38;5;241m*\u001b[39m\u001b[38;5;241m2\u001b[39m  \u001b[38;5;241m+\u001b[39m (y_hat_1 \u001b[38;5;241m-\u001b[39m y_act_1)\u001b[38;5;241m*\u001b[39m\u001b[38;5;241m*\u001b[39m\u001b[38;5;241m2\u001b[39m\n",
      "\u001b[0;31mNameError\u001b[0m: name 'y_hat_1' is not defined"
     ]
    }
   ],
   "source": [
    "L = (y_hat_1 - y_act_1)**2  + (y_hat_1 - y_act_1)**2"
   ]
  },
  {
   "cell_type": "code",
   "execution_count": null,
   "id": "04b06e58-8e55-4027-97c0-fd46d745bd50",
   "metadata": {},
   "outputs": [],
   "source": [
    "L_derivative = 2 * (y_hat_1 - y_act_1) + 2 * (y_hat_2 - y_act_2)"
   ]
  }
 ],
 "metadata": {
  "kernelspec": {
   "display_name": "Python 3 (ipykernel)",
   "language": "python",
   "name": "python3"
  },
  "language_info": {
   "codemirror_mode": {
    "name": "ipython",
    "version": 3
   },
   "file_extension": ".py",
   "mimetype": "text/x-python",
   "name": "python",
   "nbconvert_exporter": "python",
   "pygments_lexer": "ipython3",
   "version": "3.11.7"
  }
 },
 "nbformat": 4,
 "nbformat_minor": 5
}
